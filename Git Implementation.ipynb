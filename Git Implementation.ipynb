{
 "cells": [
  {
   "cell_type": "code",
   "execution_count": 45,
   "metadata": {},
   "outputs": [],
   "source": [
    "from hashlib import sha1\n",
    "import Blob\n",
    "from Tree import Tree\n",
    "from Commit import Commit\n",
    "from Reference import Reference\n",
    "\n",
    "class Git(object):\n",
    "    \"\"\"\n",
    "    attributes\n",
    "    ----------\n",
    "    dir_blobs : list\n",
    "        list of Blobs\n",
    "    dir_trees : list\n",
    "        list of Trees\n",
    "    dir_commits : list\n",
    "        list of Commits\n",
    "    Master : Reference\n",
    "        represents Master ref\n",
    "    Head : Reference\n",
    "        initially points at Master ref but could point at Commits\n",
    "    \"\"\"\n",
    "    def __init__(self):\n",
    "        self.index_file = {}\n",
    "        self.dir_blobs = []\n",
    "        self.dir_trees = []\n",
    "        self.dir_commits = []\n",
    "        self.master = Reference(\"master\")\n",
    "        self.head = Reference(\"head\", ref=self.master)\n",
    "        \n",
    "\n",
    "    def add(self, fname):\n",
    "        \"\"\"\n",
    "        creates blob object, and then adds fname/hash to index.\n",
    "        \n",
    "        parameters\n",
    "        ----------\n",
    "        fname : str\n",
    "            fname of file to be tracked.\n",
    "        \"\"\"\n",
    "        b = self._create_blob(fname)\n",
    "        self.dir_blobs.append(b)  # TODO: write to disk\n",
    "        self.index_file[fname] = b.id\n",
    "\n",
    "    def _create_blob(self, fname):\n",
    "        \"\"\"create new blob object.\n",
    "        \"\"\"\n",
    "        fh = open(fname, \"r\").read()\n",
    "        return Blob.Blob(fh)\n",
    "\n",
    "    def commit(self, msg):\n",
    "        \"\"\"\n",
    "        (1) create tree graph from index: represent the content of the version of the project being committed\n",
    "        (2) create commit object\n",
    "        (3) points branch to commit. points the current branch at the new commit object.\n",
    "        \"\"\"\n",
    "        # step 1: create Tree, which is just an official snapshot of index\n",
    "        t = Tree(self.index_file)\n",
    "        self.dir_trees.append(t)\n",
    "        \n",
    "        # step 2: create Commit\n",
    "        \n",
    "        # if this is the 1st commit, then commit's parent is the tree\n",
    "        if self.master.reference == None:\n",
    "            parent_obj = t\n",
    "        \n",
    "        # chase pointer until we find a Commit or Tree object\n",
    "        else:\n",
    "            parent_obj = self.head\n",
    "            while type(parent_obj) == Reference:\n",
    "                parent_obj = parent_obj.reference\n",
    "        \n",
    "        # now we can create a new Commit object\n",
    "        new_commit_obj = Commit(t.id, msg, parent_obj)\n",
    "        self.dir_commits.append(new_commit_obj)\n",
    "        \n",
    "        # step 3: master branch points to latest commit object\n",
    "        self.master.reference = new_commit_obj"
   ]
  },
  {
   "cell_type": "code",
   "execution_count": 46,
   "metadata": {
    "collapsed": true
   },
   "outputs": [],
   "source": [
    "g = Git()"
   ]
  },
  {
   "cell_type": "code",
   "execution_count": 47,
   "metadata": {},
   "outputs": [
    {
     "name": "stdout",
     "output_type": "stream",
     "text": [
      "a"
     ]
    }
   ],
   "source": [
    "!printf 'a' > letter.txt\n",
    "!cat letter.txt"
   ]
  },
  {
   "cell_type": "code",
   "execution_count": 48,
   "metadata": {},
   "outputs": [
    {
     "name": "stdout",
     "output_type": "stream",
     "text": [
      "blob id:  86f7e437faa5a7fce15d1ddcb9eaeaea377667b8\n"
     ]
    }
   ],
   "source": [
    "# add to index, which maintains a list of things to track\n",
    "g.add(\"letter.txt\")\n",
    "print 'blob id: ', g.dir_blobs[0].id"
   ]
  },
  {
   "cell_type": "code",
   "execution_count": 49,
   "metadata": {},
   "outputs": [
    {
     "data": {
      "text/plain": [
       "{'letter.txt': '86f7e437faa5a7fce15d1ddcb9eaeaea377667b8'}"
      ]
     },
     "execution_count": 49,
     "metadata": {},
     "output_type": "execute_result"
    }
   ],
   "source": [
    "g.index_file"
   ]
  },
  {
   "cell_type": "markdown",
   "metadata": {},
   "source": [
    "### lets add another file to working directory"
   ]
  },
  {
   "cell_type": "code",
   "execution_count": 50,
   "metadata": {},
   "outputs": [
    {
     "name": "stdout",
     "output_type": "stream",
     "text": [
      "1234"
     ]
    }
   ],
   "source": [
    "!printf '1234' > number.txt\n",
    "!cat number.txt"
   ]
  },
  {
   "cell_type": "code",
   "execution_count": 51,
   "metadata": {
    "collapsed": true
   },
   "outputs": [],
   "source": [
    "g.add(\"number.txt\")"
   ]
  },
  {
   "cell_type": "code",
   "execution_count": 52,
   "metadata": {},
   "outputs": [
    {
     "name": "stdout",
     "output_type": "stream",
     "text": [
      "86f7e437faa5a7fce15d1ddcb9eaeaea377667b8\n",
      "7110eda4d09e062aa5e4a390b0a572ac0d2c0220\n"
     ]
    }
   ],
   "source": [
    "for b in g.dir_blobs:\n",
    "    print b.id"
   ]
  },
  {
   "cell_type": "code",
   "execution_count": 53,
   "metadata": {},
   "outputs": [
    {
     "data": {
      "text/plain": [
       "{'letter.txt': '86f7e437faa5a7fce15d1ddcb9eaeaea377667b8',\n",
       " 'number.txt': '7110eda4d09e062aa5e4a390b0a572ac0d2c0220'}"
      ]
     },
     "execution_count": 53,
     "metadata": {},
     "output_type": "execute_result"
    }
   ],
   "source": [
    "g.index_file"
   ]
  },
  {
   "cell_type": "markdown",
   "metadata": {},
   "source": [
    "### update existing file"
   ]
  },
  {
   "cell_type": "code",
   "execution_count": 54,
   "metadata": {},
   "outputs": [
    {
     "name": "stdout",
     "output_type": "stream",
     "text": [
      "1"
     ]
    }
   ],
   "source": [
    "!printf '1' > number.txt\n",
    "!cat number.txt"
   ]
  },
  {
   "cell_type": "code",
   "execution_count": 55,
   "metadata": {
    "collapsed": true
   },
   "outputs": [],
   "source": [
    "g.add(\"number.txt\")"
   ]
  },
  {
   "cell_type": "code",
   "execution_count": 56,
   "metadata": {},
   "outputs": [
    {
     "data": {
      "text/plain": [
       "{'letter.txt': '86f7e437faa5a7fce15d1ddcb9eaeaea377667b8',\n",
       " 'number.txt': '356a192b7913b04c54574d18c28d46e6395428ab'}"
      ]
     },
     "execution_count": 56,
     "metadata": {},
     "output_type": "execute_result"
    }
   ],
   "source": [
    "# new file reflected in index\n",
    "g.index_file"
   ]
  },
  {
   "cell_type": "code",
   "execution_count": 57,
   "metadata": {},
   "outputs": [
    {
     "name": "stdout",
     "output_type": "stream",
     "text": [
      "86f7e437faa5a7fce15d1ddcb9eaeaea377667b8\n",
      "7110eda4d09e062aa5e4a390b0a572ac0d2c0220\n",
      "356a192b7913b04c54574d18c28d46e6395428ab\n"
     ]
    }
   ],
   "source": [
    "# but now we have 3 blobs\n",
    "for b in g.dir_blobs:\n",
    "    print b.id"
   ]
  },
  {
   "cell_type": "markdown",
   "metadata": {},
   "source": [
    "### 1st commit"
   ]
  },
  {
   "cell_type": "code",
   "execution_count": 58,
   "metadata": {
    "collapsed": true
   },
   "outputs": [],
   "source": [
    "# commit\n",
    "g.commit('a1')"
   ]
  },
  {
   "cell_type": "code",
   "execution_count": 59,
   "metadata": {},
   "outputs": [
    {
     "data": {
      "text/plain": [
       "'Tree'"
      ]
     },
     "execution_count": 59,
     "metadata": {},
     "output_type": "execute_result"
    }
   ],
   "source": [
    "# since this is the first commit, the Commit object's parent is the tree\n",
    "A1 = g.dir_commits[0]\n",
    "A1.parent_obj.ref_type"
   ]
  },
  {
   "cell_type": "code",
   "execution_count": 60,
   "metadata": {},
   "outputs": [
    {
     "name": "stdout",
     "output_type": "stream",
     "text": [
      "A1 parent:  {\"letter.txt\": \"86f7e437faa5a7fce15d1ddcb9eaeaea377667b8\", \"number.txt\": \"356a192b7913b04c54574d18c28d46e6395428ab\"}\n"
     ]
    }
   ],
   "source": [
    "print \"A1 parent: \", A1.parent_obj.index"
   ]
  },
  {
   "cell_type": "code",
   "execution_count": 61,
   "metadata": {},
   "outputs": [
    {
     "data": {
      "text/plain": [
       "'a1'"
      ]
     },
     "execution_count": 61,
     "metadata": {},
     "output_type": "execute_result"
    }
   ],
   "source": [
    "# master branch now points at latest commit object a1\n",
    "g.master.reference.msg"
   ]
  },
  {
   "cell_type": "code",
   "execution_count": 62,
   "metadata": {},
   "outputs": [
    {
     "data": {
      "text/plain": [
       "'master'"
      ]
     },
     "execution_count": 62,
     "metadata": {},
     "output_type": "execute_result"
    }
   ],
   "source": [
    "# head branch points at master\n",
    "g.head.reference.ref_type"
   ]
  },
  {
   "cell_type": "markdown",
   "metadata": {},
   "source": [
    "### 2nd commit"
   ]
  },
  {
   "cell_type": "code",
   "execution_count": 63,
   "metadata": {
    "collapsed": true
   },
   "outputs": [],
   "source": [
    "!printf '2' > number.txt"
   ]
  },
  {
   "cell_type": "code",
   "execution_count": 64,
   "metadata": {
    "collapsed": true
   },
   "outputs": [],
   "source": [
    "g.add(\"number.txt\")"
   ]
  },
  {
   "cell_type": "code",
   "execution_count": 65,
   "metadata": {},
   "outputs": [
    {
     "data": {
      "text/plain": [
       "{'letter.txt': '86f7e437faa5a7fce15d1ddcb9eaeaea377667b8',\n",
       " 'number.txt': 'da4b9237bacccdf19c0760cab7aec4a8359010b0'}"
      ]
     },
     "execution_count": 65,
     "metadata": {},
     "output_type": "execute_result"
    }
   ],
   "source": [
    "# again, index file reflects working copy\n",
    "g.index_file"
   ]
  },
  {
   "cell_type": "code",
   "execution_count": 66,
   "metadata": {},
   "outputs": [
    {
     "name": "stdout",
     "output_type": "stream",
     "text": [
      "86f7e437faa5a7fce15d1ddcb9eaeaea377667b8\n",
      "7110eda4d09e062aa5e4a390b0a572ac0d2c0220\n",
      "356a192b7913b04c54574d18c28d46e6395428ab\n",
      "da4b9237bacccdf19c0760cab7aec4a8359010b0\n"
     ]
    }
   ],
   "source": [
    "# but now we should have 4 blob objects\n",
    "for b in g.dir_blobs:\n",
    "    print b.id"
   ]
  },
  {
   "cell_type": "code",
   "execution_count": 67,
   "metadata": {
    "collapsed": true
   },
   "outputs": [],
   "source": [
    "g.commit('a2')"
   ]
  },
  {
   "cell_type": "code",
   "execution_count": 68,
   "metadata": {},
   "outputs": [
    {
     "data": {
      "text/plain": [
       "'{\"letter.txt\": \"86f7e437faa5a7fce15d1ddcb9eaeaea377667b8\", \"number.txt\": \"da4b9237bacccdf19c0760cab7aec4a8359010b0\"}'"
      ]
     },
     "execution_count": 68,
     "metadata": {},
     "output_type": "execute_result"
    }
   ],
   "source": [
    "# first, when commit, a new tree graph is created to represent the content of the index\n",
    "g.dir_trees[1].index"
   ]
  },
  {
   "cell_type": "code",
   "execution_count": 69,
   "metadata": {},
   "outputs": [
    {
     "name": "stdout",
     "output_type": "stream",
     "text": [
      "a2\n"
     ]
    }
   ],
   "source": [
    "# second, a new commit object is created\n",
    "A2 = g.dir_commits[1]\n",
    "print A2.msg"
   ]
  },
  {
   "cell_type": "code",
   "execution_count": 71,
   "metadata": {},
   "outputs": [
    {
     "name": "stdout",
     "output_type": "stream",
     "text": [
      "actual tree hash:  bced68531359468d07445ba401750f965697fb90\n",
      "tree hash, according to Commit:  bced68531359468d07445ba401750f965697fb90\n"
     ]
    }
   ],
   "source": [
    "# commit object tracks the latest tree\n",
    "print \"actual tree hash: \", g.dir_trees[1].id\n",
    "print \"tree hash, according to Commit: \", A2.tree_id"
   ]
  },
  {
   "cell_type": "code",
   "execution_count": 75,
   "metadata": {},
   "outputs": [
    {
     "data": {
      "text/plain": [
       "'a1'"
      ]
     },
     "execution_count": 75,
     "metadata": {},
     "output_type": "execute_result"
    }
   ],
   "source": [
    "# Commit A2's parent is the previous Commit_A1\n",
    "A2.parent_obj.msg"
   ]
  },
  {
   "cell_type": "code",
   "execution_count": 76,
   "metadata": {},
   "outputs": [
    {
     "data": {
      "text/plain": [
       "'a2'"
      ]
     },
     "execution_count": 76,
     "metadata": {},
     "output_type": "execute_result"
    }
   ],
   "source": [
    "# Master points at A2\n",
    "g.master.reference.msg"
   ]
  },
  {
   "cell_type": "code",
   "execution_count": 77,
   "metadata": {},
   "outputs": [
    {
     "data": {
      "text/plain": [
       "'master'"
      ]
     },
     "execution_count": 77,
     "metadata": {},
     "output_type": "execute_result"
    }
   ],
   "source": [
    "# head still points at master\n",
    "g.head.reference.ref_type"
   ]
  },
  {
   "cell_type": "code",
   "execution_count": null,
   "metadata": {
    "collapsed": true
   },
   "outputs": [],
   "source": []
  },
  {
   "cell_type": "code",
   "execution_count": null,
   "metadata": {
    "collapsed": true
   },
   "outputs": [],
   "source": []
  }
 ],
 "metadata": {
  "kernelspec": {
   "display_name": "Python 2",
   "language": "python",
   "name": "python2"
  },
  "language_info": {
   "codemirror_mode": {
    "name": "ipython",
    "version": 2
   },
   "file_extension": ".py",
   "mimetype": "text/x-python",
   "name": "python",
   "nbconvert_exporter": "python",
   "pygments_lexer": "ipython2",
   "version": "2.7.13"
  }
 },
 "nbformat": 4,
 "nbformat_minor": 2
}
