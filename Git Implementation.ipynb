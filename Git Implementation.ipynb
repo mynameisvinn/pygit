{
 "cells": [
  {
   "cell_type": "code",
   "execution_count": 31,
   "metadata": {
    "collapsed": true
   },
   "outputs": [],
   "source": [
    "from hashlib import sha1\n",
    "from Git import Blob, Tree, Commit, Reference\n",
    "\n",
    "class Git(object):\n",
    "    \"\"\"\n",
    "    instantiating a Git object is the equivalent of git init. it creates\n",
    "    a .git directory, which then contains a .git/objects (for Blobs, Trees, \n",
    "    Commits) and a .git/references subdirectory (for refs).\n",
    "    \n",
    "    attributes\n",
    "    ----------\n",
    "    dir_blobs : list\n",
    "        list of Blobs\n",
    "    dir_trees : list\n",
    "        list of Trees\n",
    "    dir_commits : list\n",
    "        list of Commits\n",
    "    Master : Reference\n",
    "        represents Master ref\n",
    "    Head : Reference\n",
    "        initially points at Master ref but could point at Commits\n",
    "    \"\"\"\n",
    "    def __init__(self):\n",
    "        self.index_file = {}  # which files should git track? only tracks fnames and corresponding blob id\n",
    "        self.dir_blobs = []  # blob representations of tracked files. all blobs are kept, even out of date blobs.\n",
    "        self.dir_trees = []\n",
    "        self.dir_commits = []\n",
    "        self.master = Reference(\"master\")  # MASTER is a \"branch\", points at Commit object\n",
    "        self.head = Reference(\"head\", ref=self.master)  # HEAD points to current branch - may or may not be MASTER\n",
    "        \n",
    "    def add(self, fname):\n",
    "        \"\"\"\n",
    "        first, convert file to a blob object (which is just a binary representation\n",
    "        of the file), then add fname and its corresponding blob id to Git's index.\n",
    "        \n",
    "        parameters\n",
    "        ----------\n",
    "        fname : str\n",
    "            fname of file to be tracked.\n",
    "        \"\"\"\n",
    "        b = self._create_blob(fname)\n",
    "        self.dir_blobs.append(b)  # TODO: write to disk\n",
    "        self.index_file[fname] = b.id  # tell git to track this file going forward\n",
    "\n",
    "    def _create_blob(self, fname):\n",
    "        \"\"\"create new blob object.\n",
    "        \"\"\"\n",
    "        fh = open(fname, \"r\").read()\n",
    "        return Blob(fh)\n",
    "\n",
    "    def commit(self, msg):\n",
    "        \"\"\"\n",
    "        (1) create a Tree object from the current index. this is important because the index\n",
    "        changes over time (eg, because there is a new file to be tracked or a tracked file \n",
    "        has been edited). \n",
    "        \n",
    "        (2) create a Commit object. Commit objects track lineage. two identical Trees could \n",
    "        result in different Commits objects if they have different histories.\n",
    "        \n",
    "        (3) points branch Reference to newly created Commit object. \n",
    "        \"\"\"\n",
    "        # step 1: create a Tree object, the \"official snapshot\" of index\n",
    "        t = Tree(self.index_file)\n",
    "        self.dir_trees.append(t)\n",
    "        \n",
    "        # step 2: create Commit object\n",
    "        # if this is the 1st commit, then Commit's parent is the newly created Tree\n",
    "        if self.master.reference == None:\n",
    "            parent_obj = t\n",
    "        \n",
    "        # otherwise pointer chase until we find a Commit or Tree object\n",
    "        else:\n",
    "            parent_obj = self.head  # always start with HEAD, since it points to current branch\n",
    "            while type(parent_obj) == Reference:\n",
    "                parent_obj = parent_obj.reference\n",
    "        \n",
    "        # now, instantiate a Commit object\n",
    "        new_commit_obj = Commit(t.id, msg, parent_obj)\n",
    "        self.dir_commits.append(new_commit_obj)\n",
    "        \n",
    "        # step 3: MASTER branch points to latest commit object\n",
    "        self.master.reference = new_commit_obj"
   ]
  },
  {
   "cell_type": "code",
   "execution_count": 2,
   "metadata": {
    "collapsed": true
   },
   "outputs": [],
   "source": [
    "g = Git()"
   ]
  },
  {
   "cell_type": "code",
   "execution_count": 3,
   "metadata": {},
   "outputs": [
    {
     "name": "stdout",
     "output_type": "stream",
     "text": [
      "a"
     ]
    }
   ],
   "source": [
    "# create a new file called \"letter.txt\" - this exists in the user's space (\"working copy\")\n",
    "!printf 'a' > letter.txt\n",
    "!cat letter.txt"
   ]
  },
  {
   "cell_type": "code",
   "execution_count": 4,
   "metadata": {},
   "outputs": [
    {
     "name": "stdout",
     "output_type": "stream",
     "text": [
      "blob id for letter.txt:  86f7e437faa5a7fce15d1ddcb9eaeaea377667b8\n"
     ]
    }
   ],
   "source": [
    "# add letter.txt to index, a list of files to track\n",
    "# a Blob equivalent is created in git's space (so youll have two copies - one in git, one in user space/working space)\n",
    "g.add(\"letter.txt\")\n",
    "print 'blob id for letter.txt: ', g.dir_blobs[0].id"
   ]
  },
  {
   "cell_type": "code",
   "execution_count": 5,
   "metadata": {},
   "outputs": [
    {
     "name": "stdout",
     "output_type": "stream",
     "text": [
      "git is tracking:  {'letter.txt': '86f7e437faa5a7fce15d1ddcb9eaeaea377667b8'}\n"
     ]
    }
   ],
   "source": [
    "print \"git is tracking: \", g.index_file  # index also remembers blob id"
   ]
  },
  {
   "cell_type": "markdown",
   "metadata": {},
   "source": [
    "### lets add another file to working directory"
   ]
  },
  {
   "cell_type": "code",
   "execution_count": 6,
   "metadata": {},
   "outputs": [
    {
     "name": "stdout",
     "output_type": "stream",
     "text": [
      "1234"
     ]
    }
   ],
   "source": [
    "!printf '1234' > number.txt\n",
    "!cat number.txt"
   ]
  },
  {
   "cell_type": "code",
   "execution_count": 7,
   "metadata": {
    "collapsed": true
   },
   "outputs": [],
   "source": [
    "g.add(\"number.txt\")"
   ]
  },
  {
   "cell_type": "code",
   "execution_count": 8,
   "metadata": {},
   "outputs": [
    {
     "name": "stdout",
     "output_type": "stream",
     "text": [
      "86f7e437faa5a7fce15d1ddcb9eaeaea377667b8\n",
      "7110eda4d09e062aa5e4a390b0a572ac0d2c0220\n"
     ]
    }
   ],
   "source": [
    "for b in g.dir_blobs:\n",
    "    print b.id"
   ]
  },
  {
   "cell_type": "code",
   "execution_count": 9,
   "metadata": {},
   "outputs": [
    {
     "data": {
      "text/plain": [
       "{'letter.txt': '86f7e437faa5a7fce15d1ddcb9eaeaea377667b8',\n",
       " 'number.txt': '7110eda4d09e062aa5e4a390b0a572ac0d2c0220'}"
      ]
     },
     "execution_count": 9,
     "metadata": {},
     "output_type": "execute_result"
    }
   ],
   "source": [
    "# which files am i tracking?\n",
    "g.index_file"
   ]
  },
  {
   "cell_type": "markdown",
   "metadata": {},
   "source": [
    "### update existing file\n",
    "we modify number.txt. as result, a new Blob object is created and tracked by **index**. \n",
    "\n",
    "letter.txt, on the other hand, is unmodified. no new Blob object is created. Git creates new objects when there are diffs and, as result, is extremely space efficient."
   ]
  },
  {
   "cell_type": "code",
   "execution_count": 10,
   "metadata": {},
   "outputs": [
    {
     "name": "stdout",
     "output_type": "stream",
     "text": [
      "1"
     ]
    }
   ],
   "source": [
    "!printf '1' > number.txt\n",
    "!cat number.txt"
   ]
  },
  {
   "cell_type": "code",
   "execution_count": 11,
   "metadata": {
    "collapsed": true
   },
   "outputs": [],
   "source": [
    "g.add(\"number.txt\")"
   ]
  },
  {
   "cell_type": "code",
   "execution_count": 12,
   "metadata": {},
   "outputs": [
    {
     "data": {
      "text/plain": [
       "{'letter.txt': '86f7e437faa5a7fce15d1ddcb9eaeaea377667b8',\n",
       " 'number.txt': '356a192b7913b04c54574d18c28d46e6395428ab'}"
      ]
     },
     "execution_count": 12,
     "metadata": {},
     "output_type": "execute_result"
    }
   ],
   "source": [
    "# new, up to date blob reflected in index\n",
    "g.index_file"
   ]
  },
  {
   "cell_type": "code",
   "execution_count": 13,
   "metadata": {},
   "outputs": [
    {
     "name": "stdout",
     "output_type": "stream",
     "text": [
      "86f7e437faa5a7fce15d1ddcb9eaeaea377667b8\n",
      "7110eda4d09e062aa5e4a390b0a572ac0d2c0220\n",
      "356a192b7913b04c54574d18c28d46e6395428ab\n"
     ]
    }
   ],
   "source": [
    "# but now we have 3 blobs\n",
    "for blob in g.dir_blobs:\n",
    "    print blob.id"
   ]
  },
  {
   "cell_type": "markdown",
   "metadata": {},
   "source": [
    "### 1st commit"
   ]
  },
  {
   "cell_type": "code",
   "execution_count": 14,
   "metadata": {
    "collapsed": true
   },
   "outputs": [],
   "source": [
    "# commit\n",
    "g.commit('a1')"
   ]
  },
  {
   "cell_type": "code",
   "execution_count": 15,
   "metadata": {},
   "outputs": [
    {
     "data": {
      "text/plain": [
       "'{\"letter.txt\": \"86f7e437faa5a7fce15d1ddcb9eaeaea377667b8\", \"number.txt\": \"356a192b7913b04c54574d18c28d46e6395428ab\"}'"
      ]
     },
     "execution_count": 15,
     "metadata": {},
     "output_type": "execute_result"
    }
   ],
   "source": [
    "# commit creates a tree\n",
    "g.dir_trees[0].index"
   ]
  },
  {
   "cell_type": "code",
   "execution_count": 16,
   "metadata": {},
   "outputs": [
    {
     "name": "stdout",
     "output_type": "stream",
     "text": [
      "commit id:  5a9dfffb670262ba238e9e96a3f8d0998fca9cd5\n"
     ]
    }
   ],
   "source": [
    "# commit also creates a Commit object\n",
    "A1 = g.dir_commits[0]\n",
    "print \"commit id: \", A1.id"
   ]
  },
  {
   "cell_type": "code",
   "execution_count": 17,
   "metadata": {},
   "outputs": [
    {
     "data": {
      "text/plain": [
       "('Tree', '17b9b5c5da3011c16b730263948e79390fc50b2b')"
      ]
     },
     "execution_count": 17,
     "metadata": {},
     "output_type": "execute_result"
    }
   ],
   "source": [
    "# since this is the first commit, the Commit object's parent is the tree\n",
    "A1.parent_obj.ref_type, A1.parent_obj.id"
   ]
  },
  {
   "cell_type": "code",
   "execution_count": 18,
   "metadata": {},
   "outputs": [
    {
     "name": "stdout",
     "output_type": "stream",
     "text": [
      "A1 parent:  {\"letter.txt\": \"86f7e437faa5a7fce15d1ddcb9eaeaea377667b8\", \"number.txt\": \"356a192b7913b04c54574d18c28d46e6395428ab\"}\n"
     ]
    }
   ],
   "source": [
    "print \"A1 parent: \", A1.parent_obj.index"
   ]
  },
  {
   "cell_type": "code",
   "execution_count": 19,
   "metadata": {},
   "outputs": [
    {
     "data": {
      "text/plain": [
       "'a1'"
      ]
     },
     "execution_count": 19,
     "metadata": {},
     "output_type": "execute_result"
    }
   ],
   "source": [
    "# master branch now points at latest commit object a1\n",
    "g.master.reference.msg"
   ]
  },
  {
   "cell_type": "code",
   "execution_count": 20,
   "metadata": {},
   "outputs": [
    {
     "data": {
      "text/plain": [
       "'master'"
      ]
     },
     "execution_count": 20,
     "metadata": {},
     "output_type": "execute_result"
    }
   ],
   "source": [
    "# head branch points at master\n",
    "g.head.reference.ref_type"
   ]
  },
  {
   "cell_type": "markdown",
   "metadata": {},
   "source": [
    "### 2nd commit"
   ]
  },
  {
   "cell_type": "code",
   "execution_count": 21,
   "metadata": {
    "collapsed": true
   },
   "outputs": [],
   "source": [
    "# modify \"number.txt\", a tracked file\n",
    "!printf '2' > number.txt"
   ]
  },
  {
   "cell_type": "code",
   "execution_count": 22,
   "metadata": {},
   "outputs": [
    {
     "data": {
      "text/plain": [
       "{'letter.txt': '86f7e437faa5a7fce15d1ddcb9eaeaea377667b8',\n",
       " 'number.txt': 'da4b9237bacccdf19c0760cab7aec4a8359010b0'}"
      ]
     },
     "execution_count": 22,
     "metadata": {},
     "output_type": "execute_result"
    }
   ],
   "source": [
    "g.add(\"number.txt\")  # add will update index\n",
    "g.index_file  # blob id for number.txt should change"
   ]
  },
  {
   "cell_type": "code",
   "execution_count": 23,
   "metadata": {},
   "outputs": [
    {
     "name": "stdout",
     "output_type": "stream",
     "text": [
      "86f7e437faa5a7fce15d1ddcb9eaeaea377667b8\n",
      "7110eda4d09e062aa5e4a390b0a572ac0d2c0220\n",
      "356a192b7913b04c54574d18c28d46e6395428ab\n",
      "da4b9237bacccdf19c0760cab7aec4a8359010b0\n"
     ]
    }
   ],
   "source": [
    "# now we should have 4 blob objects\n",
    "for blob in g.dir_blobs:\n",
    "    print blob.id"
   ]
  },
  {
   "cell_type": "code",
   "execution_count": 24,
   "metadata": {
    "collapsed": true
   },
   "outputs": [],
   "source": [
    "g.commit('a2')"
   ]
  },
  {
   "cell_type": "code",
   "execution_count": 25,
   "metadata": {},
   "outputs": [
    {
     "name": "stdout",
     "output_type": "stream",
     "text": [
      "{\"letter.txt\": \"86f7e437faa5a7fce15d1ddcb9eaeaea377667b8\", \"number.txt\": \"356a192b7913b04c54574d18c28d46e6395428ab\"}\n",
      "{\"letter.txt\": \"86f7e437faa5a7fce15d1ddcb9eaeaea377667b8\", \"number.txt\": \"da4b9237bacccdf19c0760cab7aec4a8359010b0\"}\n"
     ]
    }
   ],
   "source": [
    "# (1) committing creates a new Tree from the updated index\n",
    "for tree in g.dir_trees:\n",
    "    print tree.index"
   ]
  },
  {
   "cell_type": "code",
   "execution_count": 26,
   "metadata": {},
   "outputs": [
    {
     "name": "stdout",
     "output_type": "stream",
     "text": [
      "a2\n"
     ]
    }
   ],
   "source": [
    "# (2) a new Commit object is created\n",
    "A2 = g.dir_commits[1]\n",
    "print A2.msg"
   ]
  },
  {
   "cell_type": "code",
   "execution_count": 27,
   "metadata": {},
   "outputs": [
    {
     "name": "stdout",
     "output_type": "stream",
     "text": [
      "actual tree hash:  bced68531359468d07445ba401750f965697fb90\n",
      "tree hash, according to Commit:  bced68531359468d07445ba401750f965697fb90\n"
     ]
    }
   ],
   "source": [
    "# commit object tracks the latest tree\n",
    "print \"actual tree hash: \", g.dir_trees[1].id\n",
    "print \"tree hash, according to Commit: \", A2.tree_id"
   ]
  },
  {
   "cell_type": "code",
   "execution_count": 28,
   "metadata": {},
   "outputs": [
    {
     "data": {
      "text/plain": [
       "'a1'"
      ]
     },
     "execution_count": 28,
     "metadata": {},
     "output_type": "execute_result"
    }
   ],
   "source": [
    "# Commit A2's parent is the previous Commit_A1\n",
    "A2.parent_obj.msg"
   ]
  },
  {
   "cell_type": "code",
   "execution_count": 29,
   "metadata": {},
   "outputs": [
    {
     "data": {
      "text/plain": [
       "'a2'"
      ]
     },
     "execution_count": 29,
     "metadata": {},
     "output_type": "execute_result"
    }
   ],
   "source": [
    "# Master points at A2\n",
    "g.master.reference.msg"
   ]
  },
  {
   "cell_type": "code",
   "execution_count": 30,
   "metadata": {},
   "outputs": [
    {
     "data": {
      "text/plain": [
       "'master'"
      ]
     },
     "execution_count": 30,
     "metadata": {},
     "output_type": "execute_result"
    }
   ],
   "source": [
    "# head still points at master\n",
    "g.head.reference.ref_type"
   ]
  },
  {
   "cell_type": "code",
   "execution_count": null,
   "metadata": {
    "collapsed": true
   },
   "outputs": [],
   "source": []
  },
  {
   "cell_type": "code",
   "execution_count": null,
   "metadata": {
    "collapsed": true
   },
   "outputs": [],
   "source": []
  }
 ],
 "metadata": {
  "kernelspec": {
   "display_name": "Python 2",
   "language": "python",
   "name": "python2"
  },
  "language_info": {
   "codemirror_mode": {
    "name": "ipython",
    "version": 2
   },
   "file_extension": ".py",
   "mimetype": "text/x-python",
   "name": "python",
   "nbconvert_exporter": "python",
   "pygments_lexer": "ipython2",
   "version": "2.7.13"
  }
 },
 "nbformat": 4,
 "nbformat_minor": 2
}
